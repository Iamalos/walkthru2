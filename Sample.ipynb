{
 "cells": [
  {
   "cell_type": "markdown",
   "id": "35bbd856-435d-45ec-8141-d7fa8dde2728",
   "metadata": {
    "tags": []
   },
   "source": [
    "## Walkthru sample notebook"
   ]
  },
  {
   "cell_type": "markdown",
   "id": "69605ef3-b966-4105-8b3d-19025f10dd3f",
   "metadata": {},
   "source": [
    "Here is how I calculate `1+1`"
   ]
  },
  {
   "cell_type": "code",
   "execution_count": 1,
   "id": "f580de7b-0fb7-4e8d-baa9-01dd459aa272",
   "metadata": {},
   "outputs": [
    {
     "data": {
      "text/plain": [
       "2"
      ]
     },
     "execution_count": 1,
     "metadata": {},
     "output_type": "execute_result"
    }
   ],
   "source": [
    "1+1"
   ]
  },
  {
   "cell_type": "code",
   "execution_count": 2,
   "id": "8b8155f0-d6a8-4f2a-9ede-c40f91235913",
   "metadata": {},
   "outputs": [],
   "source": [
    "from numpy import *"
   ]
  },
  {
   "cell_type": "markdown",
   "id": "c26d52c8-db49-4678-a487-71e1f204bdb3",
   "metadata": {},
   "source": [
    "Here is how I calculate `sin`"
   ]
  },
  {
   "cell_type": "code",
   "execution_count": 4,
   "id": "cd82644e-14db-4a75-8289-cf86e48434ad",
   "metadata": {},
   "outputs": [
    {
     "data": {
      "text/plain": [
       "array([0.84147098, 1.        ])"
      ]
     },
     "execution_count": 4,
     "metadata": {},
     "output_type": "execute_result"
    }
   ],
   "source": [
    "a = array([1.0, pi/2])\n",
    "sin(a)"
   ]
  },
  {
   "cell_type": "code",
   "execution_count": null,
   "id": "f1074bcf-cd8e-4c2b-ba91-0871ec1724e1",
   "metadata": {},
   "outputs": [],
   "source": []
  }
 ],
 "metadata": {
  "kernelspec": {
   "display_name": "Python 3 (ipykernel)",
   "language": "python",
   "name": "python3"
  },
  "language_info": {
   "codemirror_mode": {
    "name": "ipython",
    "version": 3
   },
   "file_extension": ".py",
   "mimetype": "text/x-python",
   "name": "python",
   "nbconvert_exporter": "python",
   "pygments_lexer": "ipython3",
   "version": "3.10.6"
  }
 },
 "nbformat": 4,
 "nbformat_minor": 5
}
